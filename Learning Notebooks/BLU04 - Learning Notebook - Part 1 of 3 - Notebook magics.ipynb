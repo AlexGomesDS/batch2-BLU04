{
 "cells": [
  {
   "cell_type": "markdown",
   "metadata": {},
   "source": [
    "# BLU04 - Learning Notebook - Part 1 of 3 - Notebook magics\n",
    "\n",
    "## 1. Introduction"
   ]
  },
  {
   "cell_type": "markdown",
   "metadata": {},
   "source": [
    "Welcome to data wrangling!\n",
    "\n",
    "Up to this point of the academy, you already handled several datasets. Some were big, some were small. Some were very clean, some were a little messier (maybe with some missing values).\n",
    "\n",
    "But in all the cases, they were pretty easy to handle (thanks pd.read_csv!), and conveniently accessible.\n",
    "\n",
    "Well, in real life, that never happens."
   ]
  },
  {
   "cell_type": "markdown",
   "metadata": {},
   "source": [
    "![title](../media/all_the_data.png)"
   ]
  },
  {
   "cell_type": "markdown",
   "metadata": {},
   "source": [
    "When dealing with a data science problem, you'll find that the data you need is probably scattered around multiple sources, stored in severeal different formats, and in need of deep cleaning!\n",
    "\n",
    "But worry not, that's what we're here for :)\n",
    "In this specialization you'll learn many tools that will turn you into a professional data wrangler.\n",
    "\n",
    "Let's start with some handy Jupyter notebook's tools."
   ]
  },
  {
   "cell_type": "markdown",
   "metadata": {},
   "source": [
    "## 2. ! (system shell access)\n",
    "\n",
    "In a Jupyter notebook, any statement that you start with an exclamation mark (!), will be sent to the underlying operating system.\n",
    "\n",
    "In practice, this means that you can run shell commands in the notebooks, in the same way as you do in your computer terminal.\n",
    "\n",
    "Let's see some examples. The first is to list the files in the current directory."
   ]
  },
  {
   "cell_type": "code",
   "execution_count": 1,
   "metadata": {},
   "outputs": [
    {
     "name": "stdout",
     "output_type": "stream",
     "text": [
      "BLU04 - Learning Notebook - Part 1 of 3 - Notebook magics.ipynb\r\n",
      "BLU04 - Learning Notebook - Part 2 of 3 - Reading files.ipynb\r\n",
      "BLU04 - Learning Notebook - Part 3 of 3 - Data cleaning.ipynb\r\n"
     ]
    }
   ],
   "source": [
    "# list the current directory\n",
    "# in Windows: ! dir\n",
    "! ls"
   ]
  },
  {
   "cell_type": "markdown",
   "metadata": {},
   "source": [
    "In order to see the contents of a file, we just have to use command **cat** (Unix) or **type** (Windows), followed by the file path."
   ]
  },
  {
   "cell_type": "code",
   "execution_count": 2,
   "metadata": {},
   "outputs": [
    {
     "name": "stdout",
     "output_type": "stream",
     "text": [
      "Lorem ipsum dolor sit amet, consectetur adipiscing elit. Duis et tristique enim. Sed eget venenatis eros, quis suscipit lorem. Ut malesuada, erat a scelerisque cursus, odio mi sodales ligula, at elementum ipsum dui condimentum ipsum. Nam imperdiet viverra dictum. Aenean commodo accumsan iaculis. Vestibulum ante ipsum primis in faucibus orci luctus et ultrices posuere cubilia Curae; Maecenas sed suscipit odio, ornare ullamcorper felis. Donec sit amet egestas sem, ac semper sem. Integer mattis purus sed orci volutpat porta. Donec cursus dapibus interdum. Donec ornare mattis dolor. Sed quis scelerisque nisl, in efficitur odio. Phasellus posuere libero eget orci feugiat scelerisque. Phasellus ullamcorper tortor nec facilisis blandit.\r\n",
      "Vestibulum tempus, purus id ultrices eleifend, lorem nunc malesuada odio, vitae aliquam elit ipsum a nulla. Vivamus sed neque arcu. Vivamus commodo nunc a est hendrerit tempor. Nullam viverra sit amet augue in sagittis. Pellentesque molestie porttitor volutpat. Nullam nec sagittis mi. Duis tempor dui mollis ligula vehicula, sed sodales lacus ullamcorper. Maecenas ultrices vestibulum mollis.\r\n"
     ]
    }
   ],
   "source": [
    "# print the contents of a file\n",
    "# in Windows: ! type ../data/lorem/lorem_ipsum_short.txt\n",
    "! cat ../data/lorem/lorem_ipsum_short.txt"
   ]
  },
  {
   "cell_type": "markdown",
   "metadata": {},
   "source": [
    "Sometimes files are very big. In that case, printing all the content of a file can be too expensive and not very usefull.\n",
    "\n",
    "Thus, it's important to know how big is a file before opening it.\n",
    "A good way to do it is by counting the number of lines that the file has."
   ]
  },
  {
   "cell_type": "code",
   "execution_count": 3,
   "metadata": {},
   "outputs": [
    {
     "name": "stdout",
     "output_type": "stream",
     "text": [
      "     150 ../data/lorem/lorem_ipsum_long.txt\r\n"
     ]
    }
   ],
   "source": [
    "# counting the number of lines in a file\n",
    "# in Windows: ! type ../data/lorem/lorem_ipsum_long.txt | find /c /v \"\"\n",
    "\n",
    "! wc -l ../data/lorem/lorem_ipsum_long.txt"
   ]
  },
  {
   "cell_type": "markdown",
   "metadata": {},
   "source": [
    "When a file is in fact very big, we can still preview it. But instead of printing all its content, w'll just want to print its first lines.\n",
    "\n",
    "For this we can use the command **head** (Unix) or **more** (Windows)."
   ]
  },
  {
   "cell_type": "code",
   "execution_count": 4,
   "metadata": {},
   "outputs": [
    {
     "name": "stdout",
     "output_type": "stream",
     "text": [
      "Lorem ipsum dolor sit amet, consectetur adipiscing elit. Sed pharetra pulvinar nulla, nec ultricies velit posuere nec. Nulla rhoncus convallis lectus in dignissim. Nulla aliquet justo risus, ac dapibus urna faucibus aliquet. Cras in pretium leo. Etiam id neque a erat feugiat vehicula. Curabitur accumsan volutpat ante, vitae vestibulum lorem congue et. Vivamus fringilla massa id dictum bibendum. Maecenas iaculis arcu ut tellus varius, at imperdiet metus lacinia. Maecenas eget turpis metus. Maecenas est mauris, venenatis cursus nulla at, gravida posuere sapien. Fusce a ex purus. Pellentesque eleifend, lorem sed pulvinar scelerisque, orci eros maximus purus, id sagittis dolor est non nulla. Vestibulum ex metus, porttitor a leo ornare, pharetra pharetra libero. Suspendisse cursus ligula in ante tincidunt rhoncus malesuada eu justo.\r\n",
      "Class aptent taciti sociosqu ad litora torquent per conubia nostra, per inceptos himenaeos. Nam nec sem nisl. Aliquam at velit neque. Cras nec sem fringilla, hendrerit massa vel, accumsan leo. Sed scelerisque tellus ut diam volutpat, in gravida justo tristique. Morbi venenatis nisi id aliquam congue. Curabitur ut convallis justo, eu mattis augue. Aliquam sollicitudin elit eros, eu vulputate enim eleifend sed. Fusce sollicitudin fermentum mauris, id hendrerit dui vehicula sit amet. Duis tempus tellus ut sem malesuada lobortis. Vivamus rutrum sit amet eros ac faucibus. Sed gravida ante ut porta lacinia. In et ante ante.\r\n"
     ]
    }
   ],
   "source": [
    "# print the content of the first two lines of the file\n",
    "# in Windows: ! more /e ../data/lorem/lorem_ipsum_long.txt P 2\n",
    "! head -2 ../data/lorem/lorem_ipsum_long.txt"
   ]
  },
  {
   "cell_type": "markdown",
   "metadata": {},
   "source": [
    "Similarly, we can also preview the last lines of the file, with the **tail** command on Unix.\n",
    "\n",
    "Unfortunately, Windows doesn't have a built-in command equivalent to tail. But there are some packages that can be installed to fill this purpose (check this [stackoverflow post](https://stackoverflow.com/questions/187587/a-windows-equivalent-of-the-unix-tail-command)). Or you can always **type** the whole file (if not too big), and read the last lines..."
   ]
  },
  {
   "cell_type": "code",
   "execution_count": 1,
   "metadata": {},
   "outputs": [
    {
     "name": "stdout",
     "output_type": "stream",
     "text": [
      "Morbi sodales et felis in bibendum. Nullam sollicitudin dapibus tellus, at molestie dui sagittis sed. Proin a tellus ac mi pharetra ullamcorper et in diam. Donec at posuere massa. Vestibulum ante ipsum primis in faucibus orci luctus et ultrices posuere cubilia Curae; Quisque faucibus justo sollicitudin tincidunt tincidunt. Mauris magna massa, convallis quis erat sit amet, varius consequat nibh. In ac elit eu purus tempor lobortis quis at ante. Aliquam erat volutpat. Etiam sed arcu ut ex venenatis suscipit. Quisque ac porta diam. Lorem ipsum dolor sit amet, consectetur adipiscing elit. Fusce tristique malesuada diam, at hendrerit neque euismod sit amet.\r\n",
      "Aenean commodo posuere elit, et ornare mi bibendum eget. Mauris scelerisque elit neque, vel eleifend leo pellentesque et. Aliquam erat volutpat. Vestibulum porttitor, neque in eleifend tincidunt, dolor tortor sagittis velit, a vehicula odio lectus et neque. Etiam odio diam, congue nec neque quis, hendrerit convallis nisi. Nullam leo ligula, faucibus eu felis eget, imperdiet egestas odio. Integer mollis consectetur fringilla. Maecenas quis blandit justo, ac tempor libero. Morbi ac est eu leo feugiat venenatis at in massa. In mattis mollis rutrum. Donec tempor auctor interdum. Etiam ultricies mi non mi convallis, at congue est tincidunt.\r\n",
      "Nunc ut luctus ligula. Class aptent taciti sociosqu ad litora torquent per conubia nostra, per inceptos himenaeos. Sed eu imperdiet erat. Donec sit amet odio tincidunt lorem consectetur tempus. Orci varius natoque penatibus et magnis dis parturient montes, nascetur ridiculus mus. Curabitur blandit arcu et purus facilisis vehicula. Aenean cursus felis enim, nec fringilla nisl laoreet vitae. Donec hendrerit mi lectus, eu convallis urna accumsan vitae. Donec imperdiet egestas justo, ullamcorper aliquam ex semper non. Fusce vel consectetur nulla, ac interdum odio. Suspendisse sit amet magna laoreet, interdum augue eu, pellentesque tortor. Sed consectetur blandit massa, interdum efficitur libero ullamcorper eget. Donec interdum sagittis justo, quis aliquam arcu pellentesque quis.\r\n"
     ]
    }
   ],
   "source": [
    "# print the content of the last three lines of the file\n",
    "# in Windows :(\n",
    "! tail -3 ../data/lorem/lorem_ipsum_long.txt"
   ]
  },
  {
   "cell_type": "markdown",
   "metadata": {},
   "source": [
    "## 3. % (magic commands)\n",
    "\n",
    "In IPython, there are some commands which are called magic commands. Quoting IPython's [documentation](https://ipython.org/ipython-doc/3/interactive/reference.html#magic-command-system): \"These [commands] allow you to control the behavior of IPython itself, plus a lot of system-type features. They are all prefixed with a % character, but parameters are given without parentheses or quotes.\"\n",
    "\n",
    "There are two types of magic commands: line magics and cell magics.\n",
    "\n",
    "Line magics are invoked like:\n",
    "\n",
    "```\n",
    "% command_name the_rest_of_the_line_is_interpreted_as_command_arguments\n",
    "```\n",
    "\n",
    "While cell magics are invoked like:\n",
    "\n",
    "```\n",
    "%% command_name the_rest_of_the_line \n",
    "and_all_the_other_lines\n",
    "in_the_cell \n",
    "are_interpreted_as_command_arguments\n",
    "```\n",
    "\n",
    "[Here](http://ipython.readthedocs.io/en/stable/interactive/magics.html) you have a list with all the existing IPython's magic commands, but here we'll just see a couple of examples.\n",
    "\n",
    "The command **magic** is a magic itself. By invoking it, without any additional arguments, the notebook will show you the magic commands' documentation"
   ]
  },
  {
   "cell_type": "code",
   "execution_count": 6,
   "metadata": {},
   "outputs": [],
   "source": [
    "# print info about magic system\n",
    "% magic"
   ]
  },
  {
   "cell_type": "markdown",
   "metadata": {},
   "source": [
    "A very usefull magic, that you've probably already seen, is the **matplotlib inline** magic.\n",
    "\n",
    "It enables the matplotlib inline backend for usage with the IPython Notebook. This means that in each cell that you write matplotlib's plotting commands, you will see the plots as output of the cell without the need to explicitly call the show method.\n",
    "\n",
    "You can invoke it as follows, and it will be applied to all the cells in the notebook."
   ]
  },
  {
   "cell_type": "code",
   "execution_count": 7,
   "metadata": {},
   "outputs": [],
   "source": [
    "%matplotlib inline"
   ]
  },
  {
   "cell_type": "markdown",
   "metadata": {},
   "source": [
    "Another super usefull magic is the **timeit**, which allows you to measure the execution time of a line or a cell.\n",
    "\n",
    "Let's see an example of timeit as a line magic."
   ]
  },
  {
   "cell_type": "code",
   "execution_count": 8,
   "metadata": {},
   "outputs": [
    {
     "name": "stdout",
     "output_type": "stream",
     "text": [
      "37.6 µs ± 2.69 µs per loop (mean ± std. dev. of 5 runs, 3 loops each)\n"
     ]
    }
   ],
   "source": [
    "# the -n argument specifies the number of times the statement runs each time, which is called a loop\n",
    "# the -r argument specifies the number of times the loop runs\n",
    "%timeit -n3 -r5 [i for i in range(1000)]"
   ]
  },
  {
   "cell_type": "markdown",
   "metadata": {},
   "source": [
    "We can also use timeit as a cell magic to inspect the execution time of a whole cell."
   ]
  },
  {
   "cell_type": "code",
   "execution_count": 9,
   "metadata": {},
   "outputs": [
    {
     "name": "stdout",
     "output_type": "stream",
     "text": [
      "34.9 µs ± 1.16 µs per loop (mean ± std. dev. of 7 runs, 10000 loops each)\n"
     ]
    }
   ],
   "source": [
    "%%timeit x = 3\n",
    "result = x**100\n",
    "[i for i in range(1000)]"
   ]
  },
  {
   "cell_type": "markdown",
   "metadata": {},
   "source": [
    "Another important magic is the **load_ext**, which allows us to load IPython extensions.\n",
    "\n",
    "In this example, we're loading the **line_profiler** extension, which allows us to profile functions by measuring how much time is being spent in each line of the function."
   ]
  },
  {
   "cell_type": "code",
   "execution_count": 10,
   "metadata": {},
   "outputs": [],
   "source": [
    "%load_ext line_profiler"
   ]
  },
  {
   "cell_type": "markdown",
   "metadata": {},
   "source": [
    "Let's see an example on how to use the line profiler. First, we define a (very dummy) function."
   ]
  },
  {
   "cell_type": "code",
   "execution_count": 11,
   "metadata": {},
   "outputs": [],
   "source": [
    "def very_dummy_function(r=1000):\n",
    "    slow_execution_statement = [i for i in range(r)]\n",
    "    fast_execution_statement = 2\n",
    "    \n",
    "    return 'hello!'"
   ]
  },
  {
   "cell_type": "markdown",
   "metadata": {},
   "source": [
    "Then, we invoke the line profiler using the **lprun** magic like this."
   ]
  },
  {
   "cell_type": "code",
   "execution_count": 12,
   "metadata": {},
   "outputs": [],
   "source": [
    "%lprun -f very_dummy_function very_dummy_function(r=2000)"
   ]
  },
  {
   "cell_type": "markdown",
   "metadata": {},
   "source": [
    "As it was expected, the function spends about 99% percent of it's execution time in the loop slow_execution_statement loop, and the remaining time is split between the fast_execution_statement assignement and the return statement."
   ]
  },
  {
   "cell_type": "markdown",
   "metadata": {},
   "source": [
    "## 4. Optional\n",
    "\n",
    "You can read more about profiling code [here](https://jakevdp.github.io/PythonDataScienceHandbook/01.07-timing-and-profiling.html)."
   ]
  },
  {
   "cell_type": "code",
   "execution_count": null,
   "metadata": {},
   "outputs": [],
   "source": []
  }
 ],
 "metadata": {
  "kernelspec": {
   "display_name": "Python 3",
   "language": "python",
   "name": "python3"
  },
  "language_info": {
   "codemirror_mode": {
    "name": "ipython",
    "version": 3
   },
   "file_extension": ".py",
   "mimetype": "text/x-python",
   "name": "python",
   "nbconvert_exporter": "python",
   "pygments_lexer": "ipython3",
   "version": "3.6.5"
  }
 },
 "nbformat": 4,
 "nbformat_minor": 2
}
